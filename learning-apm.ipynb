{
 "cells": [
  {
   "cell_type": "markdown",
   "id": "add5cb68",
   "metadata": {
    "papermill": {
     "duration": 0.004837,
     "end_time": "2023-08-06T22:26:48.272835",
     "exception": false,
     "start_time": "2023-08-06T22:26:48.267998",
     "status": "completed"
    },
    "tags": []
   },
   "source": [
    "# Introduction to Machine Learning with Python\n",
    "## Chapter 1\n",
    "\n",
    "### Questions to ask before building a machine learning solutions\n",
    "\n",
    "- What question(s) am I trying to answer? Do I think the data collected can answer that question?\n",
    "- What is the best way to phrase my question(s) as a machine learning problem?\n",
    "- Have I collected enought data to represent the problem I want to solve?\n",
    "- What features of the data did I extract, and will these enable the right predictions?\n",
    "- How will I measure success in my application?\n",
    "- How will the machine learning solution interact with other parts of my research or business product?\n",
    "\n",
    "\n",
    "### Scikit-learn\n",
    "\n",
    "For information about the project [scikit-learn_userguide](https://scikit-learn.org/stable/user_guide.html) and API and algorithm documentation.\n",
    "\n",
    "Scikit depends on:\n",
    "- Numpy\n",
    "- SciPy\n",
    "\n",
    "For plotting and interactive development we should install:\n",
    "- matplotlib\n",
    "- IPython\n",
    "- Jupyter Notebook\n",
    "\n",
    "We can also install prepackaged python distribution:\n",
    "- Anaconda\n",
    "- Enthought Canopy\n",
    "- Python(x,y)\n",
    "\n",
    "If python has already been installed we can use the following command:\n",
    "\n",
    "```shell\n",
    "pip install numpy scipy matplotlib ipython scikit-learn pandas pillow\n",
    "```\n",
    "\n",
    "For tree visualization it will be also needed `graphviz` and for chp 7 `nltk` and `spacy` libs.\n",
    "\n",
    "[Code examples link](https://github.com/amueller/introduction_to_ml_with_python)"
   ]
  },
  {
   "cell_type": "code",
   "execution_count": 1,
   "id": "ecaad96d",
   "metadata": {
    "execution": {
     "iopub.execute_input": "2023-08-06T22:26:48.283490Z",
     "iopub.status.busy": "2023-08-06T22:26:48.283006Z",
     "iopub.status.idle": "2023-08-06T22:26:48.298226Z",
     "shell.execute_reply": "2023-08-06T22:26:48.296608Z"
    },
    "papermill": {
     "duration": 0.023394,
     "end_time": "2023-08-06T22:26:48.300659",
     "exception": false,
     "start_time": "2023-08-06T22:26:48.277265",
     "status": "completed"
    },
    "tags": []
   },
   "outputs": [
    {
     "name": "stdout",
     "output_type": "stream",
     "text": [
      "x:\n",
      "[[1 2 3]\n",
      " [4 5 6]]\n"
     ]
    }
   ],
   "source": [
    "# Numpy Array\n",
    "import numpy as np\n",
    "\n",
    "x = np.array([[1,2,3],[4,5,6]])\n",
    "print(\"x:\\n{}\".format(x))"
   ]
  },
  {
   "cell_type": "code",
   "execution_count": 2,
   "id": "8e40b108",
   "metadata": {
    "execution": {
     "iopub.execute_input": "2023-08-06T22:26:48.311046Z",
     "iopub.status.busy": "2023-08-06T22:26:48.310667Z",
     "iopub.status.idle": "2023-08-06T22:27:22.749284Z",
     "shell.execute_reply": "2023-08-06T22:27:22.748337Z"
    },
    "papermill": {
     "duration": 34.450878,
     "end_time": "2023-08-06T22:27:22.755869",
     "exception": false,
     "start_time": "2023-08-06T22:26:48.304991",
     "status": "completed"
    },
    "tags": []
   },
   "outputs": [
    {
     "name": "stdout",
     "output_type": "stream",
     "text": [
      "Requirement already satisfied: scipy in /opt/conda/lib/python3.10/site-packages (1.11.1)\r\n",
      "Requirement already satisfied: numpy<1.28.0,>=1.21.6 in /opt/conda/lib/python3.10/site-packages (from scipy) (1.23.5)\r\n",
      "Note: you may need to restart the kernel to use updated packages.\n"
     ]
    }
   ],
   "source": [
    "pip install scipy"
   ]
  },
  {
   "cell_type": "code",
   "execution_count": 3,
   "id": "24741667",
   "metadata": {
    "execution": {
     "iopub.execute_input": "2023-08-06T22:27:22.766863Z",
     "iopub.status.busy": "2023-08-06T22:27:22.766425Z",
     "iopub.status.idle": "2023-08-06T22:27:22.860627Z",
     "shell.execute_reply": "2023-08-06T22:27:22.859106Z"
    },
    "papermill": {
     "duration": 0.102627,
     "end_time": "2023-08-06T22:27:22.863122",
     "exception": false,
     "start_time": "2023-08-06T22:27:22.760495",
     "status": "completed"
    },
    "tags": []
   },
   "outputs": [
    {
     "name": "stdout",
     "output_type": "stream",
     "text": [
      "Numpy array:\n",
      " [[1. 0. 0. 0.]\n",
      " [0. 1. 0. 0.]\n",
      " [0. 0. 1. 0.]\n",
      " [0. 0. 0. 1.]]\n"
     ]
    },
    {
     "name": "stderr",
     "output_type": "stream",
     "text": [
      "/opt/conda/lib/python3.10/site-packages/scipy/__init__.py:146: UserWarning: A NumPy version >=1.16.5 and <1.23.0 is required for this version of SciPy (detected version 1.23.5\n",
      "  warnings.warn(f\"A NumPy version >={np_minversion} and <{np_maxversion}\"\n"
     ]
    }
   ],
   "source": [
    "# Sparse matrix\n",
    "\n",
    "from scipy import sparse\n",
    "\n",
    "eye = np.eye(4)\n",
    "print(\"Numpy array:\\n\", eye)"
   ]
  },
  {
   "cell_type": "code",
   "execution_count": 4,
   "id": "298f1633",
   "metadata": {
    "execution": {
     "iopub.execute_input": "2023-08-06T22:27:22.874717Z",
     "iopub.status.busy": "2023-08-06T22:27:22.874304Z",
     "iopub.status.idle": "2023-08-06T22:27:22.885583Z",
     "shell.execute_reply": "2023-08-06T22:27:22.884381Z"
    },
    "papermill": {
     "duration": 0.01996,
     "end_time": "2023-08-06T22:27:22.888034",
     "exception": false,
     "start_time": "2023-08-06T22:27:22.868074",
     "status": "completed"
    },
    "tags": []
   },
   "outputs": [
    {
     "name": "stdout",
     "output_type": "stream",
     "text": [
      "\n",
      "SciPy sparse CSR matrix:\n",
      "   (0, 0)\t1.0\n",
      "  (1, 1)\t1.0\n",
      "  (2, 2)\t1.0\n",
      "  (3, 3)\t1.0\n"
     ]
    }
   ],
   "source": [
    "sparse_matrix = sparse.csr_matrix(eye)\n",
    "print(\"\\nSciPy sparse CSR matrix:\\n\", sparse_matrix)"
   ]
  },
  {
   "cell_type": "code",
   "execution_count": 5,
   "id": "1f5b573f",
   "metadata": {
    "execution": {
     "iopub.execute_input": "2023-08-06T22:27:22.899460Z",
     "iopub.status.busy": "2023-08-06T22:27:22.899045Z",
     "iopub.status.idle": "2023-08-06T22:27:22.906043Z",
     "shell.execute_reply": "2023-08-06T22:27:22.905214Z"
    },
    "papermill": {
     "duration": 0.015329,
     "end_time": "2023-08-06T22:27:22.908341",
     "exception": false,
     "start_time": "2023-08-06T22:27:22.893012",
     "status": "completed"
    },
    "tags": []
   },
   "outputs": [
    {
     "name": "stdout",
     "output_type": "stream",
     "text": [
      "\n",
      "Np of ones:\n",
      " [1. 1. 1. 1.]\n",
      "COO representation:\n",
      "   (0, 0)\t1.0\n",
      "  (1, 1)\t1.0\n",
      "  (2, 2)\t1.0\n",
      "  (3, 3)\t1.0\n"
     ]
    }
   ],
   "source": [
    "# Creation of sparse matrix directly\n",
    "\n",
    "data = np.ones(4)\n",
    "print(\"\\nNp of ones:\\n\", data)\n",
    "row_indices = np.arange(4)\n",
    "col_indices = np.arange(4)\n",
    "eye_coo = sparse.coo_matrix((data, (row_indices, col_indices)))\n",
    "print(\"COO representation:\\n\", eye_coo)\n",
    "\n",
    "# more detail ww.scipy-lectures.org"
   ]
  },
  {
   "cell_type": "markdown",
   "id": "cd5fc7c0",
   "metadata": {
    "papermill": {
     "duration": 0.005089,
     "end_time": "2023-08-06T22:27:22.918614",
     "exception": false,
     "start_time": "2023-08-06T22:27:22.913525",
     "status": "completed"
    },
    "tags": []
   },
   "source": [
    "### Matplotlib\n",
    "\n",
    "Pode ser usado nos notebooks usando dois comandos:\n",
    "- %matplotlib notebook\n",
    "- %matplotlib inline"
   ]
  },
  {
   "cell_type": "code",
   "execution_count": 6,
   "id": "503c6294",
   "metadata": {
    "execution": {
     "iopub.execute_input": "2023-08-06T22:27:22.930835Z",
     "iopub.status.busy": "2023-08-06T22:27:22.930410Z",
     "iopub.status.idle": "2023-08-06T22:27:23.288280Z",
     "shell.execute_reply": "2023-08-06T22:27:23.287048Z"
    },
    "papermill": {
     "duration": 0.366811,
     "end_time": "2023-08-06T22:27:23.290648",
     "exception": false,
     "start_time": "2023-08-06T22:27:22.923837",
     "status": "completed"
    },
    "tags": []
   },
   "outputs": [
    {
     "data": {
      "text/plain": [
       "[<matplotlib.lines.Line2D at 0x7c0d5f08fbb0>]"
      ]
     },
     "execution_count": 6,
     "metadata": {},
     "output_type": "execute_result"
    },
    {
     "data": {
      "image/png": "[encoded data removed]",
      "text/plain": [
       "<Figure size 640x480 with 1 Axes>"
      ]
     },
     "metadata": {},
     "output_type": "display_data"
    }
   ],
   "source": [
    "%matplotlib inline\n",
    "import matplotlib.pyplot as plt\n",
    "\n",
    "#Generate a sequence of numbers from -10 to 10 with 100 steps in between\n",
    "x = np.linspace(-10, 10, 100)\n",
    "\n",
    "# Create a second array using sine\n",
    "y = np.sin(x)\n",
    "\n",
    "#The plot function makes a line chart of one array agains another\n",
    "plt.plot(x, y, marker=\"o\")"
   ]
  },
  {
   "cell_type": "markdown",
   "id": "69d715db",
   "metadata": {
    "execution": {
     "iopub.execute_input": "2023-08-06T22:10:12.987866Z",
     "iopub.status.busy": "2023-08-06T22:10:12.987482Z",
     "iopub.status.idle": "2023-08-06T22:10:12.995686Z",
     "shell.execute_reply": "2023-08-06T22:10:12.994093Z",
     "shell.execute_reply.started": "2023-08-06T22:10:12.987837Z"
    },
    "papermill": {
     "duration": 0.005911,
     "end_time": "2023-08-06T22:27:23.302816",
     "exception": false,
     "start_time": "2023-08-06T22:27:23.296905",
     "status": "completed"
    },
    "tags": []
   },
   "source": [
    "### Pandas\n",
    "\n",
    "Panda is a lib that let use use DataFrames like excel sheets, and import a great variety of data to use. It also let us use several diferent type of data in a table.\n",
    "Book about Pandas:\n",
    "\n",
    "- Python for data analysis by Wes McKinney(O'Reilly,2012)"
   ]
  },
  {
   "cell_type": "code",
   "execution_count": 7,
   "id": "bac311be",
   "metadata": {
    "execution": {
     "iopub.execute_input": "2023-08-06T22:27:23.316968Z",
     "iopub.status.busy": "2023-08-06T22:27:23.316539Z",
     "iopub.status.idle": "2023-08-06T22:27:23.342484Z",
     "shell.execute_reply": "2023-08-06T22:27:23.341371Z"
    },
    "papermill": {
     "duration": 0.03604,
     "end_time": "2023-08-06T22:27:23.344997",
     "exception": false,
     "start_time": "2023-08-06T22:27:23.308957",
     "status": "completed"
    },
    "tags": []
   },
   "outputs": [
    {
     "data": {
      "text/html": [
       "<div>\n",
       "<style scoped>\n",
       "    .dataframe tbody tr th:only-of-type {\n",
       "        vertical-align: middle;\n",
       "    }\n",
       "\n",
       "    .dataframe tbody tr th {\n",
       "        vertical-align: top;\n",
       "    }\n",
       "\n",
       "    .dataframe thead th {\n",
       "        text-align: right;\n",
       "    }\n",
       "</style>\n",
       "<table border=\"1\" class=\"dataframe\">\n",
       "  <thead>\n",
       "    <tr style=\"text-align: right;\">\n",
       "      <th></th>\n",
       "      <th>Name</th>\n",
       "      <th>Location</th>\n",
       "      <th>Age</th>\n",
       "    </tr>\n",
       "  </thead>\n",
       "  <tbody>\n",
       "    <tr>\n",
       "      <th>0</th>\n",
       "      <td>John</td>\n",
       "      <td>New York</td>\n",
       "      <td>24</td>\n",
       "    </tr>\n",
       "    <tr>\n",
       "      <th>1</th>\n",
       "      <td>Anna</td>\n",
       "      <td>Paris</td>\n",
       "      <td>13</td>\n",
       "    </tr>\n",
       "    <tr>\n",
       "      <th>2</th>\n",
       "      <td>Peter</td>\n",
       "      <td>Berlin</td>\n",
       "      <td>53</td>\n",
       "    </tr>\n",
       "    <tr>\n",
       "      <th>3</th>\n",
       "      <td>Linda</td>\n",
       "      <td>London</td>\n",
       "      <td>33</td>\n",
       "    </tr>\n",
       "  </tbody>\n",
       "</table>\n",
       "</div>"
      ],
      "text/plain": [
       "    Name  Location  Age\n",
       "0   John  New York   24\n",
       "1   Anna     Paris   13\n",
       "2  Peter    Berlin   53\n",
       "3  Linda    London   33"
      ]
     },
     "metadata": {},
     "output_type": "display_data"
    }
   ],
   "source": [
    "import pandas as pd\n",
    "\n",
    "data = {\n",
    "    'Name': [\"John\", \"Anna\", \"Peter\", \"Linda\"],\n",
    "    'Location': [\"New York\", \"Paris\", \"Berlin\", \"London\"],\n",
    "    'Age': [24,13,53,33]\n",
    "}\n",
    "\n",
    "data_pandas = pd.DataFrame(data)\n",
    "# IPython.display allows \"pretty printing\" of df in jupyter\n",
    "display(data_pandas)"
   ]
  },
  {
   "cell_type": "code",
   "execution_count": 8,
   "id": "7258296c",
   "metadata": {
    "execution": {
     "iopub.execute_input": "2023-08-06T22:27:23.359221Z",
     "iopub.status.busy": "2023-08-06T22:27:23.358595Z",
     "iopub.status.idle": "2023-08-06T22:27:23.372726Z",
     "shell.execute_reply": "2023-08-06T22:27:23.371642Z"
    },
    "papermill": {
     "duration": 0.023977,
     "end_time": "2023-08-06T22:27:23.375349",
     "exception": false,
     "start_time": "2023-08-06T22:27:23.351372",
     "status": "completed"
    },
    "tags": []
   },
   "outputs": [
    {
     "data": {
      "text/html": [
       "<div>\n",
       "<style scoped>\n",
       "    .dataframe tbody tr th:only-of-type {\n",
       "        vertical-align: middle;\n",
       "    }\n",
       "\n",
       "    .dataframe tbody tr th {\n",
       "        vertical-align: top;\n",
       "    }\n",
       "\n",
       "    .dataframe thead th {\n",
       "        text-align: right;\n",
       "    }\n",
       "</style>\n",
       "<table border=\"1\" class=\"dataframe\">\n",
       "  <thead>\n",
       "    <tr style=\"text-align: right;\">\n",
       "      <th></th>\n",
       "      <th>Name</th>\n",
       "      <th>Location</th>\n",
       "      <th>Age</th>\n",
       "    </tr>\n",
       "  </thead>\n",
       "  <tbody>\n",
       "    <tr>\n",
       "      <th>2</th>\n",
       "      <td>Peter</td>\n",
       "      <td>Berlin</td>\n",
       "      <td>53</td>\n",
       "    </tr>\n",
       "    <tr>\n",
       "      <th>3</th>\n",
       "      <td>Linda</td>\n",
       "      <td>London</td>\n",
       "      <td>33</td>\n",
       "    </tr>\n",
       "  </tbody>\n",
       "</table>\n",
       "</div>"
      ],
      "text/plain": [
       "    Name Location  Age\n",
       "2  Peter   Berlin   53\n",
       "3  Linda   London   33"
      ]
     },
     "metadata": {},
     "output_type": "display_data"
    }
   ],
   "source": [
    "# Ways to query data example\n",
    "\n",
    "#Select all rows that have an age column greater than 30\n",
    "display(data_pandas[data_pandas.Age > 30])"
   ]
  },
  {
   "cell_type": "markdown",
   "id": "f5e6dbb9",
   "metadata": {
    "papermill": {
     "duration": 0.006396,
     "end_time": "2023-08-06T22:27:23.390100",
     "exception": false,
     "start_time": "2023-08-06T22:27:23.383704",
     "status": "completed"
    },
    "tags": []
   },
   "source": [
    "### MGLearn\n",
    "\n",
    "Is a module used during the book to abstract plotting and to fetch interesting data. *Should explore later*"
   ]
  },
  {
   "cell_type": "code",
   "execution_count": null,
   "id": "0c023106",
   "metadata": {
    "papermill": {
     "duration": 0.006305,
     "end_time": "2023-08-06T22:27:23.403005",
     "exception": false,
     "start_time": "2023-08-06T22:27:23.396700",
     "status": "completed"
    },
    "tags": []
   },
   "outputs": [],
   "source": []
  }
 ],
 "metadata": {
  "kernelspec": {
   "display_name": "Python 3",
   "language": "python",
   "name": "python3"
  },
  "language_info": {
   "codemirror_mode": {
    "name": "ipython",
    "version": 3
   },
   "file_extension": ".py",
   "mimetype": "text/x-python",
   "name": "python",
   "nbconvert_exporter": "python",
   "pygments_lexer": "ipython3",
   "version": "3.10.12"
  },
  "papermill": {
   "default_parameters": {},
   "duration": 48.733628,
   "end_time": "2023-08-06T22:27:24.334217",
   "environment_variables": {},
   "exception": null,
   "input_path": "__notebook__.ipynb",
   "output_path": "__notebook__.ipynb",
   "parameters": {},
   "start_time": "2023-08-06T22:26:35.600589",
   "version": "2.4.0"
  }
 },
 "nbformat": 4,
 "nbformat_minor": 5
}
